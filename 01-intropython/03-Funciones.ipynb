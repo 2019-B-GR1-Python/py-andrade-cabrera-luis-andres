{
 "cells": [
  {
   "cell_type": "code",
   "execution_count": 5,
   "metadata": {},
   "outputs": [
    {
     "name": "stdout",
     "output_type": "stream",
     "text": [
      "Que mas ve\n"
     ]
    }
   ],
   "source": [
    "def hola_mundo():\n",
    "    print(\"Que mas ve\")\n",
    "\n",
    "hola_mundo()"
   ]
  },
  {
   "cell_type": "code",
   "execution_count": 6,
   "metadata": {},
   "outputs": [
    {
     "name": "stdout",
     "output_type": "stream",
     "text": [
      "Que mas ve\n"
     ]
    },
    {
     "data": {
      "text/plain": [
       "NoneType"
      ]
     },
     "execution_count": 6,
     "metadata": {},
     "output_type": "execute_result"
    }
   ],
   "source": [
    "type(hola_mundo()) # Que devuelven las funciones que no devuelven nada "
   ]
  },
  {
   "cell_type": "code",
   "execution_count": 8,
   "metadata": {},
   "outputs": [
    {
     "ename": "TypeError",
     "evalue": "suma_dos_numeros() missing 2 required positional arguments: 'num_uno' and 'num_dos'",
     "output_type": "error",
     "traceback": [
      "\u001b[0;31m---------------------------------------------------------------------------\u001b[0m",
      "\u001b[0;31mTypeError\u001b[0m                                 Traceback (most recent call last)",
      "\u001b[0;32m<ipython-input-8-bf018e7db467>\u001b[0m in \u001b[0;36m<module>\u001b[0;34m\u001b[0m\n\u001b[1;32m      1\u001b[0m \u001b[0;32mdef\u001b[0m \u001b[0msuma_dos_numeros\u001b[0m\u001b[0;34m(\u001b[0m\u001b[0mnum_uno\u001b[0m\u001b[0;34m,\u001b[0m \u001b[0mnum_dos\u001b[0m\u001b[0;34m)\u001b[0m\u001b[0;34m:\u001b[0m\u001b[0;34m\u001b[0m\u001b[0;34m\u001b[0m\u001b[0m\n\u001b[1;32m      2\u001b[0m     \u001b[0;32mreturn\u001b[0m \u001b[0mnum_uno\u001b[0m \u001b[0;34m+\u001b[0m \u001b[0mnum_dos\u001b[0m\u001b[0;34m\u001b[0m\u001b[0;34m\u001b[0m\u001b[0m\n\u001b[0;32m----> 3\u001b[0;31m \u001b[0msuma_dos_numeros\u001b[0m\u001b[0;34m(\u001b[0m\u001b[0;34m)\u001b[0m\u001b[0;34m\u001b[0m\u001b[0;34m\u001b[0m\u001b[0m\n\u001b[0m",
      "\u001b[0;31mTypeError\u001b[0m: suma_dos_numeros() missing 2 required positional arguments: 'num_uno' and 'num_dos'"
     ]
    }
   ],
   "source": [
    "def suma_dos_numeros(num_uno, num_dos): #Arg Requeridos\n",
    "    return num_uno + num_dos\n",
    "suma_dos_numeros()"
   ]
  },
  {
   "cell_type": "code",
   "execution_count": 9,
   "metadata": {},
   "outputs": [
    {
     "name": "stdout",
     "output_type": "stream",
     "text": [
      "3\n"
     ]
    }
   ],
   "source": [
    "print(suma_dos_numeros(1,2))\n"
   ]
  },
  {
   "cell_type": "code",
   "execution_count": 10,
   "metadata": {},
   "outputs": [
    {
     "name": "stdout",
     "output_type": "stream",
     "text": [
      "suma 3\n"
     ]
    }
   ],
   "source": [
    "suma= suma_dos_numeros(1,2)\n",
    "print(f\"suma {suma}\")"
   ]
  },
  {
   "cell_type": "code",
   "execution_count": 11,
   "metadata": {},
   "outputs": [
    {
     "name": "stdout",
     "output_type": "stream",
     "text": [
      "EPN\n"
     ]
    }
   ],
   "source": [
    "def imprimir_universidad(nombre = 'EPN'): # Args. Opcionales\n",
    "    print(f\"{nombre}\")\n",
    "imprimir_universidad()"
   ]
  },
  {
   "cell_type": "code",
   "execution_count": 12,
   "metadata": {},
   "outputs": [
    {
     "name": "stdout",
     "output_type": "stream",
     "text": [
      "ESPE\n"
     ]
    }
   ],
   "source": [
    "imprimir_universidad(\"ESPE\")"
   ]
  },
  {
   "cell_type": "code",
   "execution_count": 16,
   "metadata": {},
   "outputs": [
    {
     "name": "stdout",
     "output_type": "stream",
     "text": [
      "Color: Blanco\n",
      "Placa: ABC-123\n",
      "Caballos Fuerza: 2000\n",
      "Anio: 1970\n",
      "Color: Amazul\n",
      "Placa: DEF-456\n",
      "Caballos Fuerza: 3500\n",
      "Anio: 2005\n",
      "Color: Cafe\n",
      "Placa: HIJ-789\n",
      "Caballos Fuerza: 5000\n",
      "Anio: 1990\n"
     ]
    }
   ],
   "source": [
    "def imprimir_carro(color, placa, hp, anio=\"1990\"):\n",
    "    print(f\"Color: {color}\")\n",
    "    print(f\"Placa: {placa}\")\n",
    "    print(f\"Caballos Fuerza: {hp}\")\n",
    "    print(f\"Anio: {anio}\")\n",
    "\n",
    "imprimir_carro(\"Blanco\", \"ABC-123\",2000,1970)\n",
    "imprimir_carro(anio=2005, color=\"Amazul\",placa = \"DEF-456\", hp = 3500) #Named parameters\n",
    "#Cafe es un parametro por posicion(Positional Parameters)\n",
    "imprimir_carro(\"Cafe\", \"HIJ-789\", hp=5000) \n",
    "#Named parameters\n",
    "#1r: Siempre se deben mandar los PARAMETROS requeridos\n",
    "#2da: Los parametros requeridos primero, y luego los opcionales\n",
    "#3r: Si se usa un parametro nombrado, entonces los siguientes tbm deber'an serlo."
   ]
  },
  {
   "cell_type": "code",
   "execution_count": 27,
   "metadata": {},
   "outputs": [
    {
     "ename": "SyntaxError",
     "evalue": "invalid syntax (<ipython-input-27-898ceff5d01c>, line 2)",
     "output_type": "error",
     "traceback": [
      "\u001b[0;36m  File \u001b[0;32m\"<ipython-input-27-898ceff5d01c>\"\u001b[0;36m, line \u001b[0;32m2\u001b[0m\n\u001b[0;31m    def sumar_numeros(primer_numero, *numeros, *tuplas): #Numeros es una tupla\u001b[0m\n\u001b[0m                                               ^\u001b[0m\n\u001b[0;31mSyntaxError\u001b[0m\u001b[0;31m:\u001b[0m invalid syntax\n"
     ]
    }
   ],
   "source": [
    "#Parametros infinitos\n",
    "def sumar_numeros(primer_numero, *numeros): #Numeros es una tupla\n",
    "    print(type(primer_numero))\n",
    "    print(type(numeros))\n",
    "    print(type(tuplas))\n",
    "    longitud = len(numeros)\n",
    "    if longitud == 0:\n",
    "        return primer_numero\n",
    "    else:\n",
    "        suma=primer_numero\n",
    "        for num in numeros:\n",
    "            suma = suma + num\n",
    "        return suma\n",
    "sumar_numeros(1,1,2)\n",
    "#Los parametros infinitos deberian ir al final\n",
    "#No es posible usar dos parametros infinitos"
   ]
  },
  {
   "cell_type": "code",
   "execution_count": 33,
   "metadata": {},
   "outputs": [
    {
     "name": "stdout",
     "output_type": "stream",
     "text": [
      "<class 'str'>\n",
      "<class 'int'>\n",
      "<class 'dict'>\n",
      "{'tiempo_espera': 10, 'Localizacion': 30, 'estado': 'Mexico'}\n"
     ]
    }
   ],
   "source": [
    "def imprimir_configuracion(nombre, valor=10, **key_word_arguments): #Keyword arguments\n",
    "    print(type(nombre))\n",
    "    print(type(valor))\n",
    "    #print(type(valores_carga))\n",
    "    print(type(key_word_arguments))\n",
    "    print(key_word_arguments)\n",
    "imprimir_configuracion(nombre = \"Andres\",\n",
    "                       tiempo_espera=10,Localizacion=30,estado=\"Mexico\")\n",
    "#Keyword arguments son los parametros nombrados que no han sido definidos."
   ]
  },
  {
   "cell_type": "code",
   "execution_count": null,
   "metadata": {},
   "outputs": [],
   "source": []
  }
 ],
 "metadata": {
  "kernelspec": {
   "display_name": "anaconda",
   "language": "python",
   "name": "anaconda"
  },
  "language_info": {
   "codemirror_mode": {
    "name": "ipython",
    "version": 3
   },
   "file_extension": ".py",
   "mimetype": "text/x-python",
   "name": "python",
   "nbconvert_exporter": "python",
   "pygments_lexer": "ipython3",
   "version": "3.7.4"
  }
 },
 "nbformat": 4,
 "nbformat_minor": 2
}
