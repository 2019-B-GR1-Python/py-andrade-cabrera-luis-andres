{
 "cells": [
  {
   "cell_type": "code",
   "execution_count": 5,
   "metadata": {},
   "outputs": [
    {
     "name": "stdout",
     "output_type": "stream",
     "text": [
      "<class 'str'>\n",
      "L1:Más vale pajaro en mano que ciento volando.\n",
      "\n",
      "L2:Cria cuervos y te sacaran los ojos.\n",
      "\n",
      "L3:Juntate con lobos y terminarás aullando.\n",
      "Lx:\n",
      "Ly:\n"
     ]
    }
   ],
   "source": [
    "try:\n",
    "    path=\"frases.txt\"\n",
    "    archivo_abierto = open(path)\n",
    "    linea_uno = archivo_abierto.readline()\n",
    "    print(type(linea_uno)) # es un string\n",
    "    print(f\"L1:{linea_uno}\")\n",
    "    linea_dos = archivo_abierto.readline()\n",
    "    print(f\"L2:{linea_dos}\")\n",
    "    linea_tres = archivo_abierto.readline()\n",
    "    print(f\"L3:{linea_tres}\")\n",
    "    linea_x = archivo_abierto.readline()\n",
    "    print(f\"Lx:{linea_x}\")\n",
    "    linea_y = archivo_abierto.readline()\n",
    "    print(f\"Ly:{linea_y}\")\n",
    "    archivo_abierto.close()\n",
    "except Exception as error:\n",
    "    print(\"Error\")"
   ]
  },
  {
   "cell_type": "code",
   "execution_count": 9,
   "metadata": {},
   "outputs": [
    {
     "name": "stdout",
     "output_type": "stream",
     "text": [
      "<class 'list'>\n",
      "['Más vale pajaro en mano que ciento volando.\\n', 'Cria cuervos y te sacaran los ojos.\\n', 'Juntate con lobos y terminarás aullando.Buenas madrugadas \\n', 'ABC\\n', 'DEF\\n']\n"
     ]
    }
   ],
   "source": [
    "try:\n",
    "    path=\"frases.txt\"\n",
    "    archivo_abierto = open(path)\n",
    "    lineas = archivo_abierto.readlines() #Es una lista de strings\n",
    "    print(type(lineas))\n",
    "    print(lineas)\n",
    "    archivo_abierto.close()\n",
    "except Exception as error:\n",
    "    print(\"Error\")"
   ]
  },
  {
   "cell_type": "code",
   "execution_count": 8,
   "metadata": {},
   "outputs": [],
   "source": [
    "# Escribir archivos\n",
    "try:\n",
    "    path=\"frases.txt\"\n",
    "    archivo_escritura_abierto = open(path, mode=\"a\")\n",
    "    # a => Append\n",
    "    # w => Write(Sobreescribe)\n",
    "    archivo_escritura_abierto.write(\"Buenas madrugadas \\n\")\n",
    "    archivo_escritura_abierto.writelines([\"ABC\\n\", \"DEF\\n\"])\n",
    "    archivo_escritura_abierto.close()\n",
    "except Exception as error:\n",
    "    print(\"Error\")"
   ]
  },
  {
   "cell_type": "code",
   "execution_count": null,
   "metadata": {},
   "outputs": [],
   "source": []
  }
 ],
 "metadata": {
  "kernelspec": {
   "display_name": "anaconda",
   "language": "python",
   "name": "anaconda"
  },
  "language_info": {
   "codemirror_mode": {
    "name": "ipython",
    "version": 3
   },
   "file_extension": ".py",
   "mimetype": "text/x-python",
   "name": "python",
   "nbconvert_exporter": "python",
   "pygments_lexer": "ipython3",
   "version": "3.7.4"
  }
 },
 "nbformat": 4,
 "nbformat_minor": 2
}
