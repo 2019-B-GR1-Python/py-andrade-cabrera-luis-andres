{
 "cells": [
  {
   "cell_type": "code",
   "execution_count": 2,
   "metadata": {},
   "outputs": [
    {
     "data": {
      "text/plain": [
       "4"
      ]
     },
     "execution_count": 2,
     "metadata": {},
     "output_type": "execute_result"
    }
   ],
   "source": [
    "def elevar_al_cuadrado(numero):\n",
    "    return numero * numero\n",
    "elevar_al_cuadrado(2)"
   ]
  },
  {
   "cell_type": "code",
   "execution_count": 3,
   "metadata": {},
   "outputs": [],
   "source": [
    "elevar_al_cuadrado_lambda = lambda numero: numero * numero"
   ]
  },
  {
   "cell_type": "code",
   "execution_count": 4,
   "metadata": {},
   "outputs": [
    {
     "data": {
      "text/plain": [
       "4"
      ]
     },
     "execution_count": 4,
     "metadata": {},
     "output_type": "execute_result"
    }
   ],
   "source": [
    "elevar_al_cuadrado_lambda(2)"
   ]
  },
  {
   "cell_type": "code",
   "execution_count": 5,
   "metadata": {},
   "outputs": [],
   "source": [
    "print_lambda = lambda string: print(\"Mensaje:\"+string)"
   ]
  },
  {
   "cell_type": "code",
   "execution_count": 6,
   "metadata": {},
   "outputs": [
    {
     "name": "stdout",
     "output_type": "stream",
     "text": [
      "Mensaje:Hola\n"
     ]
    }
   ],
   "source": [
    "print_lambda(\"Hola\")"
   ]
  },
  {
   "cell_type": "code",
   "execution_count": 7,
   "metadata": {},
   "outputs": [],
   "source": [
    "suma_lambda = lambda n1,n2: n1 + n2"
   ]
  },
  {
   "cell_type": "code",
   "execution_count": 8,
   "metadata": {},
   "outputs": [
    {
     "data": {
      "text/plain": [
       "6"
      ]
     },
     "execution_count": 8,
     "metadata": {},
     "output_type": "execute_result"
    }
   ],
   "source": [
    "suma_lambda(2,4)"
   ]
  },
  {
   "cell_type": "code",
   "execution_count": 9,
   "metadata": {},
   "outputs": [],
   "source": [
    "class Nada:\n",
    "    pass"
   ]
  },
  {
   "cell_type": "code",
   "execution_count": 12,
   "metadata": {},
   "outputs": [
    {
     "name": "stdout",
     "output_type": "stream",
     "text": [
      "<__main__.Nada object at 0x7f242c53b490>\n",
      "<class '__main__.Nada'>\n"
     ]
    }
   ],
   "source": [
    "una_nada = Nada()\n",
    "print(una_nada)\n",
    "print(type(una_nada))"
   ]
  },
  {
   "cell_type": "code",
   "execution_count": 25,
   "metadata": {},
   "outputs": [
    {
     "name": "stdout",
     "output_type": "stream",
     "text": [
      "Empezo el constructor\n",
      "None\n",
      "amazul\n",
      "1\n",
      "Color: amazul\n",
      "Chasis: 1\n",
      "14\n"
     ]
    }
   ],
   "source": [
    "class Auto:\n",
    "    color = None\n",
    "    __numero_chasis = 1 # Todas las variables son public\n",
    "                        # a menos que se especifique que \n",
    "                        # sean private con \"__\"\n",
    "    def __init__(self, color): # Self this\n",
    "        print(\"Empezo el constructor\")\n",
    "        print(self.color)\n",
    "        self.color = color\n",
    "        \n",
    "    def __str__(self): #Para hacer override a una funcion\n",
    "                    #basta con nombrarla especificamente\n",
    "        return f\"Color: {self.color}\\n\" + f\"Chasis: {self.__numero_chasis}\"\n",
    "    \n",
    "    def numero_chasis_impuesto(self):\n",
    "        return self.__calcular_impuesto()\n",
    "    \n",
    "    def __calcular_impuesto(self):\n",
    "        return 14 * self.__numero_chasis\n",
    "\n",
    "nuevo_auto = Auto(\"amazul\")\n",
    "print(nuevo_auto.color)\n",
    "print(nuevo_auto._Auto__numero_chasis)# Aun siendo privat\n",
    "                                    # se puede acceder\n",
    "                                    # de esta forma a la \n",
    "                                    #variable privada.\n",
    "print(nuevo_auto)\n",
    "#print(nuevo_auto.__calcular_impuesto()) No se puede\n",
    "                                        # acceder\n",
    "print(nuevo_auto.numero_chasis_impuesto())"
   ]
  },
  {
   "cell_type": "code",
   "execution_count": 14,
   "metadata": {},
   "outputs": [
    {
     "name": "stdout",
     "output_type": "stream",
     "text": [
      "Empezo el constructor\n",
      "<__main__.Auto object at 0x7f242c53b310>\n"
     ]
    }
   ],
   "source": [
    "nuevo_auto = Auto()\n",
    "print(nuevo_auto)"
   ]
  },
  {
   "cell_type": "code",
   "execution_count": 29,
   "metadata": {},
   "outputs": [],
   "source": [
    "class BMW(Auto):\n",
    "    def __init__(self, color):\n",
    "        print(\"Inicializando BMW\")\n",
    "        super().__init__(color)"
   ]
  },
  {
   "cell_type": "code",
   "execution_count": 31,
   "metadata": {},
   "outputs": [
    {
     "name": "stdout",
     "output_type": "stream",
     "text": [
      "Inicializando BMW\n",
      "Empezo el constructor\n",
      "None\n",
      "Color: Blanco\n",
      "Chasis: 1\n"
     ]
    }
   ],
   "source": [
    "carrito = BMW(\"Blanco\")\n",
    "print(carrito)"
   ]
  },
  {
   "cell_type": "code",
   "execution_count": 37,
   "metadata": {},
   "outputs": [
    {
     "name": "stdout",
     "output_type": "stream",
     "text": [
      "5\n",
      "-1\n",
      "6\n",
      "0.6666666666666666\n"
     ]
    }
   ],
   "source": [
    "# Funciones dentro de funciones\n",
    "def calculadora(num_uno, num_dos, operacion = \"suma\"):\n",
    "    def suma():\n",
    "        return num_uno + num_dos\n",
    "    def resta():\n",
    "        return num_uno - num_dos\n",
    "    def multiplicacion():\n",
    "        return num_uno * num_dos\n",
    "    def division():\n",
    "        return num_uno / num_dos\n",
    "    def opcion_seleccionada():\n",
    "        \"\"\"\n",
    "        return{\n",
    "            'suma': suma(),\n",
    "            'resta': resta(),\n",
    "            'multiplicacion': multiplicacion()\n",
    "            'division': division()\n",
    "        }[operacion]\n",
    "        \"\"\"\n",
    "        # Simulación de switch\n",
    "        opciones = {\n",
    "            'suma': suma(),\n",
    "            'resta': resta(),\n",
    "            'multiplicacion': multiplicacion(),\n",
    "            'division': division()\n",
    "        }\n",
    "        return opciones[operacion]\n",
    "    return opcion_seleccionada()\n",
    "\n",
    "print(calculadora(2,3))\n",
    "print(calculadora(2,3,\"resta\"))\n",
    "print(calculadora(2,3,\"multiplicacion\"))\n",
    "print(calculadora(2,3,\"division\"))"
   ]
  },
  {
   "cell_type": "code",
   "execution_count": 38,
   "metadata": {},
   "outputs": [
    {
     "name": "stdout",
     "output_type": "stream",
     "text": [
      "Tu eres Andrés\n"
     ]
    },
    {
     "data": {
      "text/plain": [
       "'Andrés'"
      ]
     },
     "execution_count": 38,
     "metadata": {},
     "output_type": "execute_result"
    }
   ],
   "source": [
    "input(\"Tu eres \")"
   ]
  },
  {
   "cell_type": "code",
   "execution_count": null,
   "metadata": {},
   "outputs": [],
   "source": []
  }
 ],
 "metadata": {
  "kernelspec": {
   "display_name": "anaconda",
   "language": "python",
   "name": "anaconda"
  },
  "language_info": {
   "codemirror_mode": {
    "name": "ipython",
    "version": 3
   },
   "file_extension": ".py",
   "mimetype": "text/x-python",
   "name": "python",
   "nbconvert_exporter": "python",
   "pygments_lexer": "ipython3",
   "version": "3.7.4"
  }
 },
 "nbformat": 4,
 "nbformat_minor": 2
}
