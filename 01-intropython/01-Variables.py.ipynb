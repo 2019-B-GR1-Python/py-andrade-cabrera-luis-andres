{
 "cells": [
  {
   "cell_type": "code",
   "execution_count": 1,
   "metadata": {},
   "outputs": [
    {
     "name": "stdout",
     "output_type": "stream",
     "text": [
      "Hola mundo\n"
     ]
    }
   ],
   "source": [
    "print(\"Hola mundo\")"
   ]
  },
  {
   "cell_type": "code",
   "execution_count": 2,
   "metadata": {},
   "outputs": [
    {
     "name": "stdout",
     "output_type": "stream",
     "text": [
      "<class 'int'>\n",
      "<class 'float'>\n",
      "<class 'str'>\n",
      "<class 'str'>\n",
      "<class 'bool'>\n",
      "<class 'bool'>\n",
      "<class 'NoneType'>\n"
     ]
    }
   ],
   "source": [
    "## Variables Primitivas\n",
    "entero = 3\n",
    "decimal = 1.1\n",
    "nombre = \"Andres\"\n",
    "segundo_nombre = 'Vicente'\n",
    "casado = False\n",
    "profesor = True\n",
    "hijos = None\n",
    "\n",
    "print(type(entero))  #int\n",
    "print(type(decimal))  #float\n",
    "print(type(nombre))  #str\n",
    "print(type(segundo_nombre))  #str\n",
    "print(type(casado))  #bool\n",
    "print(type(profesor))  #bool\n",
    "print(type(hijos)) #NoneType\n"
   ]
  },
  {
   "cell_type": "code",
   "execution_count": 3,
   "metadata": {},
   "outputs": [
    {
     "name": "stdout",
     "output_type": "stream",
     "text": [
      "3\n",
      "1.1\n"
     ]
    }
   ],
   "source": [
    "print(entero)\n",
    "entero = decimal\n",
    "print(entero)"
   ]
  },
  {
   "cell_type": "code",
   "execution_count": 13,
   "metadata": {},
   "outputs": [
    {
     "name": "stdout",
     "output_type": "stream",
     "text": [
      "<class 'tuple'>\n",
      "<class 'list'>\n",
      "<class 'dict'>\n",
      "Falsy\n",
      "Truty\n",
      "Falsy\n",
      "Truty\n",
      "Truty\n",
      "Falsy\n",
      "Truty\n",
      "Falsy\n",
      "Falsy\n",
      "Truty\n",
      "Falsy\n",
      "Truty\n",
      "Falsy\n",
      "Truty\n"
     ]
    }
   ],
   "source": [
    "# Condicion (Boolean)\n",
    "# Truty\n",
    "# Falsy\n",
    "tuplas = ()\n",
    "listas = []\n",
    "diccionario = {}\n",
    "print(type(tuplas))  # tuple\n",
    "print(type(listas))  # list\n",
    "print(type(diccionario))  # dict\n",
    "\n",
    "if(\"\"): # Falsy\n",
    "    print(\"Truty\")\n",
    "else:\n",
    "    print(\"Falsy\")\n",
    "if(\"Q\"): # Truty\n",
    "    print(\"Truty\")\n",
    "else:\n",
    "    print(\"Falsy\")\n",
    "if(0):\n",
    "    print(\"Truty\")\n",
    "else:\n",
    "    print(\"Falsy\")\n",
    "if(-1): # Truty\n",
    "    print(\"Truty\")\n",
    "else:\n",
    "    print(\"Falsy\")\n",
    "if(1): # Truty\n",
    "    print(\"Truty\")\n",
    "else:\n",
    "    print(\"Falsy\")\n",
    "if(0.00): # Falsy\n",
    "    print(\"Truty\")\n",
    "else:\n",
    "    print(\"Falsy\")\n",
    "if(0.01): # Truty\n",
    "    print(\"Truty\")\n",
    "else:\n",
    "    print(\"Falsy\")\n",
    "if(None): # Falsy\n",
    "    print(\"Truty\")\n",
    "else:\n",
    "    print(\"Falsy\")\n",
    "if(()): # Falsy\n",
    "    print(\"Truty\")\n",
    "else:\n",
    "    print(\"Falsy\")\n",
    "if((1,2)): # Truty\n",
    "    print(\"Truty\")\n",
    "else:\n",
    "    print(\"Falsy\")\n",
    "if([]): # Falsy\n",
    "    print(\"Truty\")\n",
    "else:\n",
    "    print(\"Falsy\")\n",
    "if([1,2]): # Truty\n",
    "    print(\"Truty\")\n",
    "else:\n",
    "    print(\"Falsy\")\n",
    "if({}): # Falsy\n",
    "    print(\"Truty\")\n",
    "else:\n",
    "    print(\"Falsy\")\n",
    "if({nombre:\"Andres\"}): # Falsy\n",
    "    print(\"Truty\")\n",
    "else:\n",
    "    print(\"Falsy\")\n",
    "\n"
   ]
  },
  {
   "cell_type": "code",
   "execution_count": 16,
   "metadata": {},
   "outputs": [],
   "source": [
    "arreglo = [1, 2, 3, 4, 5, 6, 7, 8, 9, 10]"
   ]
  },
  {
   "cell_type": "code",
   "execution_count": 17,
   "metadata": {},
   "outputs": [
    {
     "data": {
      "text/plain": [
       "3"
      ]
     },
     "execution_count": 17,
     "metadata": {},
     "output_type": "execute_result"
    }
   ],
   "source": [
    "arreglo[2]"
   ]
  },
  {
   "cell_type": "code",
   "execution_count": 22,
   "metadata": {},
   "outputs": [
    {
     "data": {
      "text/plain": [
       "[3, 4, 5, 6, 7, 8, 9]"
      ]
     },
     "execution_count": 22,
     "metadata": {},
     "output_type": "execute_result"
    }
   ],
   "source": [
    "arreglo[2:5]  #Filtrar ([2, 5[)\n",
    "arreglo[2:]  #Desde el 2 hasta el final\n",
    "arreglo[:7]  #Desde el principio hasta el indice\n",
    "arreglo[-1]  #Se Carga el ultimo es un indice alreves\n",
    "arreglo[2:-1] #Filtrar ([2, -1[)\n",
    "\n"
   ]
  },
  {
   "cell_type": "code",
   "execution_count": 23,
   "metadata": {},
   "outputs": [
    {
     "name": "stdout",
     "output_type": "stream",
     "text": [
      "<class 'bool'>\n",
      "True\n"
     ]
    }
   ],
   "source": [
    "print(type(7 in arreglo))\n",
    "print(7 in arreglo)"
   ]
  },
  {
   "cell_type": "code",
   "execution_count": 26,
   "metadata": {},
   "outputs": [
    {
     "name": "stdout",
     "output_type": "stream",
     "text": [
      "1\n",
      "2\n",
      "3\n",
      "4\n",
      "5\n",
      "6\n",
      "7\n",
      "8\n",
      "9\n",
      "10\n",
      "0\n",
      "1\n",
      "2\n",
      "3\n",
      "4\n",
      "5\n",
      "6\n",
      "7\n",
      "8\n",
      "9\n"
     ]
    }
   ],
   "source": [
    "for numero in arreglo:\n",
    "    print(numero)\n",
    "contador = 0\n",
    "while contador < 10:\n",
    "    print(contador)\n",
    "    contador+=1"
   ]
  },
  {
   "cell_type": "code",
   "execution_count": 28,
   "metadata": {},
   "outputs": [
    {
     "data": {
      "text/plain": [
       "5"
      ]
     },
     "execution_count": 28,
     "metadata": {},
     "output_type": "execute_result"
    }
   ],
   "source": [
    "tupla_numeros = (1,2,3,4,5)\n",
    "tupla_numeros[0:3]\n",
    "len(tupla_numeros)"
   ]
  },
  {
   "cell_type": "code",
   "execution_count": 31,
   "metadata": {},
   "outputs": [
    {
     "ename": "NameError",
     "evalue": "name 'mascotas' is not defined",
     "output_type": "error",
     "traceback": [
      "\u001b[0;31m---------------------------------------------------------------------------\u001b[0m",
      "\u001b[0;31mNameError\u001b[0m                                 Traceback (most recent call last)",
      "\u001b[0;32m<ipython-input-31-36005ab291db>\u001b[0m in \u001b[0;36m<module>\u001b[0;34m\u001b[0m\n\u001b[1;32m      6\u001b[0m     \u001b[0mhijos\u001b[0m\u001b[0;34m:\u001b[0m \u001b[0;32mNone\u001b[0m\u001b[0;34m,\u001b[0m\u001b[0;34m\u001b[0m\u001b[0;34m\u001b[0m\u001b[0m\n\u001b[1;32m      7\u001b[0m     \u001b[0mcasado\u001b[0m\u001b[0;34m:\u001b[0m \u001b[0;32mFalse\u001b[0m\u001b[0;34m,\u001b[0m\u001b[0;34m\u001b[0m\u001b[0;34m\u001b[0m\u001b[0m\n\u001b[0;32m----> 8\u001b[0;31m     \u001b[0mmascotas\u001b[0m\u001b[0;34m:\u001b[0m \u001b[0;34m[\u001b[0m\u001b[0;34m{\u001b[0m\u001b[0mnombre\u001b[0m\u001b[0;34m:\u001b[0m \u001b[0;34m\"cachetes\"\u001b[0m\u001b[0;34m}\u001b[0m\u001b[0;34m]\u001b[0m\u001b[0;34m\u001b[0m\u001b[0;34m\u001b[0m\u001b[0m\n\u001b[0m\u001b[1;32m      9\u001b[0m }\n",
      "\u001b[0;31mNameError\u001b[0m: name 'mascotas' is not defined"
     ]
    }
   ],
   "source": [
    "andres = {\n",
    "    nombre: \"Andres\",\n",
    "    \"apellido\":'',\n",
    "    'edad':30,\n",
    "    'sueldo':1.1,\n",
    "    hijos: None,\n",
    "    casado: False,\n",
    "    mascotas: [{nombre: \"cachetes\"}]\n",
    "}"
   ]
  },
  {
   "cell_type": "code",
   "execution_count": null,
   "metadata": {},
   "outputs": [],
   "source": [
    "andres[apellido]\n",
    "andres[\"mascotas\"][0][12123]\n",
    "andres.keys()\n",
    "andres.values()\n",
    "\"apellido\" in andres.keys()\n",
    "\"apellido\" in andres.values()\n",
    "\n",
    "1 == 1 or 2 == 3  # True\n",
    "1 == 1 and 2 == 3 # False\n"
   ]
  }
 ],
 "metadata": {
  "kernelspec": {
   "display_name": "anaconda",
   "language": "python",
   "name": "anaconda"
  },
  "language_info": {
   "codemirror_mode": {
    "name": "ipython",
    "version": 3
   },
   "file_extension": ".py",
   "mimetype": "text/x-python",
   "name": "python",
   "nbconvert_exporter": "python",
   "pygments_lexer": "ipython3",
   "version": "3.7.3"
  }
 },
 "nbformat": 4,
 "nbformat_minor": 2
}
